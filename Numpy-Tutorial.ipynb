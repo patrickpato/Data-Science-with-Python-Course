{
 "cells": [
  {
   "cell_type": "markdown",
   "metadata": {},
   "source": [
    "_____________________\n",
    "Objectives: \n",
    "_____________________\n",
    "Using NumPy for modelling          \n",
    "____________________\n",
    "To do:\n",
    "____________________\n",
    "Implement a linear regression model using numpy\n",
    "____________________\n",
    "Resources:            \n",
    "______________________\n",
    "Libraries: Scikit learn, numpy\n",
    "Data: Boston housing data: https://www.kaggle.com/altavish/boston-housing-dataset\n",
    "Resource: https://www.youtube.com/watch?v=4swNt7PiamQ&list=PLqnslRFeH2Upcrywf-u2etjdxxkL8nl7E&index=2\n",
    "Prepared by: Patrick Ning'i"
   ]
  },
  {
   "cell_type": "code",
   "execution_count": 49,
   "metadata": {},
   "outputs": [],
   "source": [
    "import pandas as pd\n",
    "import numpy as np\n",
    "import matplotlib.pyplot as plt\n",
    "from sklearn.model_selection import train_test_split\n",
    "from sklearn import datasets\n",
    "import seaborn as sns"
   ]
  },
  {
   "cell_type": "markdown",
   "metadata": {},
   "source": [
    "Linear Regression:\n",
    "$y = wx + b$\n",
    "1. Linear regression, common algorithm used in predicting continuous values. \n",
    "2. It attempts to build a linear relationship between variable(s) and a target column. \n",
    "3. Broadly categorized into two: simple linear regression(one variable) and multiple linear regression(multiple variables)"
   ]
  },
  {
   "cell_type": "markdown",
   "metadata": {},
   "source": [
    "![alt text](linear_reg.png \"Title\")"
   ]
  },
  {
   "cell_type": "markdown",
   "metadata": {},
   "source": [
    "# Basic Intuition\n",
    "$y = wx + b$\n",
    "w = weights, x = features, b = bias, y = target"
   ]
  },
  {
   "cell_type": "markdown",
   "metadata": {},
   "source": [
    "# Gradient descent; \n",
    "updating weights and bias; helps in improving the performance of the linear regression by reducing error function. \n",
    "![alt text](gradient_descent.jpeg \"Title\")"
   ]
  },
  {
   "cell_type": "markdown",
   "metadata": {},
   "source": [
    "# Performance evaluation\n",
    "We use the mean square error rate\n",
    "y = actual value: y_hat = predicted value\n",
    "![alt text](mse.gif \"Title\")"
   ]
  },
  {
   "cell_type": "code",
   "execution_count": 50,
   "metadata": {},
   "outputs": [],
   "source": [
    "class LinearRegression:\n",
    "\n",
    "    def __init__(self, ls=0.001, n_iters=1000):\n",
    "        self.ls = ls\n",
    "        self.n_iters = n_iters\n",
    "        self.weights = None #we start with no weights\n",
    "        self.bias = None # we also start with no bias\n",
    "    #The fit function fits our model in the train and test set\n",
    "    #In this function we will define our loss as well as update our gradients. \n",
    "    def fit(self, X, y):\n",
    "        #passing initial parameters\n",
    "        n_samples, n_features = X.shape\n",
    "        self.weights = np.zeros(n_features) #starting with weights of zeros of the size ofour features\n",
    "        self.bias = 0\n",
    "\n",
    "        for _ in range(self.n_iters):\n",
    "            y_predicted = np.dot(X, self.weights)+self.bias #y_pred = mx+b\n",
    "            #calculating the derivatives\n",
    "            dw = (1/n_samples) * np.dot(X.T, (y_predicted-y)) #multiplying by the transpose of x to find derivative of the weight\n",
    "            db = (1/n_samples) * np.sum(y_predicted-y) #derivative of the bias\n",
    "\n",
    "            #updating the weights\n",
    "            self.weights -= self.ls*dw\n",
    "            self.bias -= self.ls*db\n",
    "            \n",
    "            #essentially the above is the gradient descent\n",
    "\n",
    "    def predict(self, X):\n",
    "        y_predicted = np.dot(X, self.weights) + self.bias\n",
    "        return y_predicted"
   ]
  },
  {
   "cell_type": "code",
   "execution_count": 51,
   "metadata": {},
   "outputs": [],
   "source": [
    "X, y = datasets.make_regression(n_samples=1000, n_features=1, noise=20, random_state=4)\n",
    "X_train,X_test, y_train, y_test = train_test_split(X, y, test_size=0.3, random_state=42)"
   ]
  },
  {
   "cell_type": "code",
   "execution_count": 52,
   "metadata": {},
   "outputs": [],
   "source": [
    "regressor = LinearRegression()\n",
    "regressor.fit(X_train, y_train)\n",
    "predicted_values = regressor.predict(X_test)\n"
   ]
  },
  {
   "cell_type": "code",
   "execution_count": 53,
   "metadata": {},
   "outputs": [
    {
     "name": "stdout",
     "output_type": "stream",
     "text": [
      "469.2177832051656\n"
     ]
    }
   ],
   "source": [
    "#We compute the mean square error as\n",
    "def mse(y_true, y_predicted):\n",
    "    return  np.mean((y_true-y_predicted)**2)\n",
    "mse_value = mse(y_test, predicted_values)\n",
    "print(mse_value)"
   ]
  },
  {
   "cell_type": "code",
   "execution_count": 54,
   "metadata": {},
   "outputs": [
    {
     "data": {
      "text/plain": [
       "Text(0.5, 1.0, 'Regression Line for the Linear-Reg Model')"
      ]
     },
     "execution_count": 54,
     "metadata": {},
     "output_type": "execute_result"
    },
    {
     "data": {
      "image/png": "[encoded data removed]",
      "text/plain": [
       "<Figure size 432x288 with 1 Axes>"
      ]
     },
     "metadata": {
      "needs_background": "light"
     },
     "output_type": "display_data"
    }
   ],
   "source": [
    "#fitting a regression line to our data\n",
    "plt.scatter(X_test, y_test)\n",
    "plt.plot(X_test, predicted_values)\n",
    "plt.title(\"Regression Line for the Linear-Reg Model\")"
   ]
  },
  {
   "cell_type": "markdown",
   "metadata": {},
   "source": [
    "To load an image into your notebook, first ensure that your image is in the working directory and that the cell is in markdown format. Then use the command:\n",
    "![alt text](gradient_descent.jpeg \"Title\") #Replace gradient descent.jpeg with your image name and title with your desired title"
   ]
  },
  {
   "cell_type": "code",
   "execution_count": null,
   "metadata": {},
   "outputs": [],
   "source": []
  }
 ],
 "metadata": {
  "kernelspec": {
   "display_name": "Python 3",
   "language": "python",
   "name": "python3"
  },
  "language_info": {
   "codemirror_mode": {
    "name": "ipython",
    "version": 3
   },
   "file_extension": ".py",
   "mimetype": "text/x-python",
   "name": "python",
   "nbconvert_exporter": "python",
   "pygments_lexer": "ipython3",
   "version": "3.6.9"
  }
 },
 "nbformat": 4,
 "nbformat_minor": 4
}
